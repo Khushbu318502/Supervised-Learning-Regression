{
  "nbformat": 4,
  "nbformat_minor": 0,
  "metadata": {
    "colab": {
      "provenance": []
    },
    "kernelspec": {
      "name": "python3",
      "display_name": "Python 3"
    },
    "language_info": {
      "name": "python"
    }
  },
  "cells": [
    {
      "cell_type": "markdown",
      "source": [
        "# Supervised Learning: Regression\n",
        "Models and Performance Metrics\n"
      ],
      "metadata": {
        "id": "OFNZihgihAA_"
      }
    },
    {
      "cell_type": "markdown",
      "source": [
        "1. What is Simple Linear Regression (SLR)? Explain its purpose ?\n",
        " - Simple Linear Regression estimates how the dependent variable (Y) changes when the independent variable (X) changes.\n",
        "The relationship is represented by the equation:\n",
        "Y=a+bX+e\n",
        "\n",
        "   Where:\n",
        "\n",
        "    - Y = Dependent variable (the one we want to predict)\n",
        "\n",
        "    - X = Independent variable (the predictor)\n",
        "\n",
        "    - a = Intercept (value of Y when X = 0)\n",
        "\n",
        "    - b = Slope (change in Y for a one-unit change in X)\n",
        "\n",
        "    - e = Error term (difference between actual and predicted values)\n",
        "\n",
        "  -Purpose of Simple Linear Regression\n",
        "\n",
        "    - Prediction:\n",
        "To predict the value of one variable (Y) based on the value of another (X).\n",
        "Example: Predicting a student’s exam score (Y) based on hours studied (X).\n",
        "\n",
        "    - Understanding Relationships:\n",
        "To understand whether and how strongly two variables are related.\n",
        "Example: Examining if advertising expenditure (X) affects sales (Y).\n",
        "\n",
        "    - Trend Analysis:\n",
        "To identify and describe trends or patterns in data over time.\n",
        "\n",
        "    - Quantifying Effect:\n",
        "To measure how much change in Y is caused by a unit change in X.\n",
        "\n"
      ],
      "metadata": {
        "id": "jZ6Xz656hR8S"
      }
    },
    {
      "cell_type": "markdown",
      "source": [
        "2. What are the key assumptions of Simple Linear Regression?\n",
        "  - 1. Linearity\n",
        "\n",
        "     There should be a linear relationship between the independent variable (X) and the dependent variable (Y).\n",
        "     The change in Y is proportional to the change in X.\n",
        "     Nonlinear relationships violate this assumption.\n",
        "\n",
        "     Example: If studying more hours consistently increases marks, the relationship is linear.\n",
        "\n",
        "  - 2. Independence of Errors\n",
        "\n",
        "     The residuals (errors) — the differences between actual and predicted values — must be independent of each other.\n",
        "     This means one observation’s error should not depend on another’s.\n",
        "\n",
        "     Example: In time-series data, errors from one day should not affect the next day.\n",
        "\n",
        "  - 3. Homoscedasticity (Constant Variance)\n",
        "     The variance of the residuals should be constant across all values of X.\n",
        "     Equal spread of errors throughout the data.\n",
        "     If errors increase or decrease as X increases, it’s called heteroscedasticity.\n",
        "\n",
        "     Example: The spread of exam score errors should be similar for all study hours.\n",
        "\n",
        "  - 4. Normality of Errors\n",
        "     The residuals should be normally distributed (bell-shaped curve).\n",
        "     Important for hypothesis testing and confidence intervals.\n",
        "     You can check this by plotting a histogram or Q-Q plot of residuals.\n",
        "\n",
        "  - 5. No or Minimal Multicollinearity\n",
        "     Since SLR has only one independent variable, this assumption mainly applies to multiple regression — but in general, X should not be highly correlated with other predictors.\n",
        "\n",
        "  - 6. No Measurement Error in X\n",
        "     The independent variable (X) should be measured accurately — errors in X can bias the results."
      ],
      "metadata": {
        "id": "Uvz07ZZhkP6F"
      }
    },
    {
      "cell_type": "markdown",
      "source": [
        "3. Write the mathematical equation for a simple linear regression model and\n",
        "explain each term.\n",
        " - Mathematical Equation:\n",
        "   Y=a+bX+e\n",
        "\n",
        " - Interpretation Example:\n",
        "   Suppose the regression equation is:\n",
        "   Y=40+6.25X\n",
        "\n",
        "    - a = 40: When a student studies 0 hours, the predicted marks are 40.\n",
        "\n",
        "    - b = 6.25: For every 1 extra hour of study, marks increase by 6.25 points.\n",
        "\n",
        "    - e: Accounts for random factors (like exam difficulty or student’s health) that affect marks but are not related to hours studied.\n",
        "\n",
        " - Graphically\n",
        "   \n",
        "   It’s represented as a straight line on a scatter plot:\n",
        "   Predicted Y=a+bX\n",
        "\n",
        "   - The slope (b) shows how steeply Y changes with X.\n",
        "\n",
        "   - The intercept (a) shows where the line starts on the Y-axis.\n",
        "\n"
      ],
      "metadata": {
        "id": "4V8BFWesrUVC"
      }
    },
    {
      "cell_type": "markdown",
      "source": [
        "4. Provide a real-world example where simple linear regression can be\n",
        "applied.\n",
        " - Example: Predicting House Prices\n",
        "\n",
        "   Simple Linear Regression can be used to predict the price of a house (Y) based on its size in square feet (X).\n",
        "\n",
        "     Equation: House Price=a+b(Size)\n",
        "\n",
        " - Example:\n",
        "   \n",
        "   If the model is: Price=50,000+2000×Size\n",
        "\n",
        "   Then for a house of 1,000 sq. ft,\n",
        "\n",
        "   Predicted Price=50,000+2000(1000)=2,050,000\n",
        "\n",
        " - Purpose: To estimate or predict house prices using their size as a single predictor.\n",
        "\n"
      ],
      "metadata": {
        "id": "Jl7TNkwUCSOk"
      }
    },
    {
      "cell_type": "markdown",
      "source": [
        "5. What is the method of least squares in linear regression?\n",
        " - It chooses the line for which the total squared difference between the observed values and the values predicted by the line is the smallest.\n",
        "\n",
        "   Minimize ∑(Yi​−Yi​^​)2\n",
        "\n",
        " - where\n",
        "   \n",
        "   - Yi = actual value\n",
        "\n",
        "   - 𝑌𝑖^ = a+bXi = predicted value\n",
        "\n",
        " - Example:\n",
        "   \n",
        "   Suppose you have data of hours studied (X) and marks (Y).\n",
        "   The least squares method finds the line Y=a+bX that gives the minimum total squared error between the actual marks and the predicted marks."
      ],
      "metadata": {
        "id": "J6JJpR4PETZw"
      }
    },
    {
      "cell_type": "markdown",
      "source": [
        "6. What is Logistic Regression? How does it differ from Linear Regression?\n",
        " - Logistic Regression is a statistical method used for classification problems, where the dependent variable is categorical (e.g., Yes/No, 0/1, Pass/Fail).\n",
        "It predicts the probability that an observation belongs to a particular class using the logistic (sigmoid) function.\n",
        "\n",
        " - Equation:\n",
        "   \n",
        "    P(Y=1)=1+e−(a+bX)1​\n",
        "\n",
        "    - This ensures predicted values are between 0 and 1 (probabilities).\n",
        "\n",
        " - Example:\n",
        "\n",
        "    - Linear Regression: Predicts exact marks scored.\n",
        "\n",
        "    - Logistic Regression: Predicts the probability of passing the exam (e.g., 0.85 → likely to pass)."
      ],
      "metadata": {
        "id": "lxtHrGIWH6VL"
      }
    },
    {
      "cell_type": "markdown",
      "source": [
        "7. Name and briefly describe three common evaluation metrics for regression\n",
        "models.\n",
        " - . Mean Absolute Error (MAE)\n",
        "     \n",
        "     MAE=n/1​∑∣Yi​−Yi​^​∣\n",
        "\n",
        "      - Measures the average absolute difference between actual and predicted values.\n",
        "\n",
        "      - Interpretation: Lower MAE → better model accuracy.\n",
        "\n",
        "      - Example: If MAE = 5, predictions are off by about 5 units on average.\n",
        "\n",
        " - 2. Mean Squared Error (MSE)\n",
        "       \n",
        "       MSE=n/1​∑(Yi​−Yi​^​)2\n",
        "\n",
        "       - Measures the average squared difference between actual and predicted values.\n",
        "\n",
        "       - Penalizes larger errors more heavily than MAE.\n",
        "\n",
        "       - Lower MSE means better performance.\n",
        "\n",
        " - 3. R-squared (Coefficient of Determination)\n",
        "       \n",
        "      R2=1−SST/SSR​\n",
        "\n",
        "      - Shows how much of the variation in Y is explained by the model.\n",
        "\n",
        "       - Values range from 0 to 1.\n",
        "\n",
        "          1 → perfect fit\n",
        "\n",
        "           0 → no explanatory power\n",
        "\n"
      ],
      "metadata": {
        "id": "7JbrM0pRIzia"
      }
    },
    {
      "cell_type": "markdown",
      "source": [
        "8. What is the purpose of the R-squared metric in regression analysis?\n",
        "  - Assess Model Fit:\n",
        "\n",
        "     - Indicates how well the regression line represents the data.\n",
        "\n",
        "     - Higher R² → model explains more of the variation in Y.\n",
        "\n",
        "  - Compare Models:\n",
        "\n",
        "     - Helps compare different models predicting the same dependent variable.\n",
        "\n",
        "     - The model with a higher R² generally fits the data better.\n",
        "\n",
        "  - Interpret Explained Variability:\n",
        "\n",
        "     - R² = 0.8 → 80% of the variability in Y is explained by X, 20% is unexplained.\n",
        "\n",
        "  - Example:\n",
        "     If you predict house prices (Y) based on size (X) and get R² = 0.75, it means 75% of the variation in house prices is explained by house size."
      ],
      "metadata": {
        "id": "h6TLVm3CLbs8"
      }
    },
    {
      "cell_type": "markdown",
      "source": [
        "9. Write Python code to fit a simple linear regression model using scikit-learn\n",
        "and print the slope and intercept.\n",
        "(Include your Python code and output in the code box below.)\n",
        ""
      ],
      "metadata": {
        "id": "8qYpEkOfL_en"
      }
    },
    {
      "cell_type": "code",
      "execution_count": null,
      "metadata": {
        "id": "F7Lq7d1eg_KT"
      },
      "outputs": [],
      "source": [
        "# Import required libraries\n",
        "from sklearn.linear_model import LinearRegression\n",
        "import numpy as np\n",
        "\n",
        "# Sample data\n",
        "# X = independent variable (reshaped into 2D array for sklearn)\n",
        "# y = dependent variable\n",
        "X = np.array([1, 2, 3, 4, 5]).reshape(-1, 1)\n",
        "y = np.array([2, 4, 5, 4, 5])\n",
        "\n",
        "# Create and fit the model\n",
        "model = LinearRegression()\n",
        "model.fit(X, y)\n",
        "\n",
        "# Print slope (coefficient) and intercept\n",
        "print(\"Slope (Coefficient):\", model.coef_[0])\n",
        "print(\"Intercept:\", model.intercept_)\n",
        "\n",
        "Sample Output:\n",
        "\n",
        "Slope (Coefficient): 0.6\n",
        "Intercept: 2.2"
      ]
    },
    {
      "cell_type": "markdown",
      "source": [
        "10. How do you interpret the coefficients in a simple linear regression model?\n",
        "  - In a simple linear regression model, the equation is:\n",
        "    \n",
        "    y=b0​+b1​x\n",
        "\n",
        "  - where:\n",
        "     \n",
        "     - y = predicted (dependent) variable\n",
        "\n",
        "     - x = independent variable\n",
        "\n",
        "     - b0 = intercept\n",
        "\n",
        "     - b1 = slope (coefficient)\n",
        "\n",
        "  - Interpretation:\n",
        "     \n",
        "     - Intercept (b0):\n",
        "\n",
        "       The predicted value of y when x = 0\n",
        "\n",
        "       It represents the point where the regression line crosses the y-axis\n",
        "\n",
        "     - Slope (b1):\n",
        "\n",
        "       The amount by which y changes when x increases by one unit.\n",
        "\n",
        "       If b1 is positive, y increase with x;\n",
        "\n",
        "       If negative, y decrease with x.\n",
        "     "
      ],
      "metadata": {
        "id": "jH2AzruyzaAs"
      }
    }
  ]
}